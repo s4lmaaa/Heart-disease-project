{
 "cells": [
  {
   "cell_type": "markdown",
   "id": "2d9f4930",
   "metadata": {},
   "source": [
    "## Predicting Heart Disease Risk: A Model Comparison Study"
   ]
  },
  {
   "cell_type": "markdown",
   "id": "0e6a2420",
   "metadata": {},
   "source": [
    "### Susan Murithi - 158864\n",
    "### Salima Ali - 169964\n"
   ]
  },
  {
   "cell_type": "markdown",
   "id": "2d26bb47",
   "metadata": {},
   "source": [
    "- Goal: Use machine learning models to predict whether a patient has heart disease based on medical features.\n",
    "\n",
    "- Task Type: Binary Classification\n",
    "\n",
    "- Target Variable: target (1 = Disease, 0 = No Disease)\n",
    "\n",
    "- Dataset: UCI Heart Disease Dataset from Kaggle"
   ]
  },
  {
   "cell_type": "markdown",
   "id": "9fbce64d",
   "metadata": {},
   "source": [
    "#### Problem Statement:\n",
    "We want to build a predictive model that can determine the likelihood of a person having heart disease based on their health attributes. Early prediction can support timely medical intervention, which is crucial in preventing life-threatening complications."
   ]
  },
  {
   "cell_type": "code",
   "execution_count": 1,
   "id": "b0bac9d8",
   "metadata": {},
   "outputs": [
    {
     "name": "stdout",
     "output_type": "stream",
     "text": [
      "<class 'pandas.core.frame.DataFrame'>\n",
      "RangeIndex: 303 entries, 0 to 302\n",
      "Data columns (total 14 columns):\n",
      " #   Column    Non-Null Count  Dtype  \n",
      "---  ------    --------------  -----  \n",
      " 0   age       303 non-null    int64  \n",
      " 1   sex       303 non-null    int64  \n",
      " 2   cp        303 non-null    int64  \n",
      " 3   trestbps  303 non-null    int64  \n",
      " 4   chol      303 non-null    int64  \n",
      " 5   fbs       303 non-null    int64  \n",
      " 6   restecg   303 non-null    int64  \n",
      " 7   thalach   303 non-null    int64  \n",
      " 8   exang     303 non-null    int64  \n",
      " 9   oldpeak   303 non-null    float64\n",
      " 10  slope     303 non-null    int64  \n",
      " 11  ca        303 non-null    int64  \n",
      " 12  thal      303 non-null    int64  \n",
      " 13  target    303 non-null    int64  \n",
      "dtypes: float64(1), int64(13)\n",
      "memory usage: 33.3 KB\n"
     ]
    },
    {
     "data": {
      "text/html": [
       "<div>\n",
       "<style scoped>\n",
       "    .dataframe tbody tr th:only-of-type {\n",
       "        vertical-align: middle;\n",
       "    }\n",
       "\n",
       "    .dataframe tbody tr th {\n",
       "        vertical-align: top;\n",
       "    }\n",
       "\n",
       "    .dataframe thead th {\n",
       "        text-align: right;\n",
       "    }\n",
       "</style>\n",
       "<table border=\"1\" class=\"dataframe\">\n",
       "  <thead>\n",
       "    <tr style=\"text-align: right;\">\n",
       "      <th></th>\n",
       "      <th>age</th>\n",
       "      <th>sex</th>\n",
       "      <th>cp</th>\n",
       "      <th>trestbps</th>\n",
       "      <th>chol</th>\n",
       "      <th>fbs</th>\n",
       "      <th>restecg</th>\n",
       "      <th>thalach</th>\n",
       "      <th>exang</th>\n",
       "      <th>oldpeak</th>\n",
       "      <th>slope</th>\n",
       "      <th>ca</th>\n",
       "      <th>thal</th>\n",
       "      <th>target</th>\n",
       "    </tr>\n",
       "  </thead>\n",
       "  <tbody>\n",
       "    <tr>\n",
       "      <th>count</th>\n",
       "      <td>303.000000</td>\n",
       "      <td>303.000000</td>\n",
       "      <td>303.000000</td>\n",
       "      <td>303.000000</td>\n",
       "      <td>303.000000</td>\n",
       "      <td>303.000000</td>\n",
       "      <td>303.000000</td>\n",
       "      <td>303.000000</td>\n",
       "      <td>303.000000</td>\n",
       "      <td>303.000000</td>\n",
       "      <td>303.000000</td>\n",
       "      <td>303.000000</td>\n",
       "      <td>303.000000</td>\n",
       "      <td>303.000000</td>\n",
       "    </tr>\n",
       "    <tr>\n",
       "      <th>mean</th>\n",
       "      <td>54.366337</td>\n",
       "      <td>0.683168</td>\n",
       "      <td>0.966997</td>\n",
       "      <td>131.623762</td>\n",
       "      <td>246.264026</td>\n",
       "      <td>0.148515</td>\n",
       "      <td>0.528053</td>\n",
       "      <td>149.646865</td>\n",
       "      <td>0.326733</td>\n",
       "      <td>1.039604</td>\n",
       "      <td>1.399340</td>\n",
       "      <td>0.729373</td>\n",
       "      <td>2.313531</td>\n",
       "      <td>0.544554</td>\n",
       "    </tr>\n",
       "    <tr>\n",
       "      <th>std</th>\n",
       "      <td>9.082101</td>\n",
       "      <td>0.466011</td>\n",
       "      <td>1.032052</td>\n",
       "      <td>17.538143</td>\n",
       "      <td>51.830751</td>\n",
       "      <td>0.356198</td>\n",
       "      <td>0.525860</td>\n",
       "      <td>22.905161</td>\n",
       "      <td>0.469794</td>\n",
       "      <td>1.161075</td>\n",
       "      <td>0.616226</td>\n",
       "      <td>1.022606</td>\n",
       "      <td>0.612277</td>\n",
       "      <td>0.498835</td>\n",
       "    </tr>\n",
       "    <tr>\n",
       "      <th>min</th>\n",
       "      <td>29.000000</td>\n",
       "      <td>0.000000</td>\n",
       "      <td>0.000000</td>\n",
       "      <td>94.000000</td>\n",
       "      <td>126.000000</td>\n",
       "      <td>0.000000</td>\n",
       "      <td>0.000000</td>\n",
       "      <td>71.000000</td>\n",
       "      <td>0.000000</td>\n",
       "      <td>0.000000</td>\n",
       "      <td>0.000000</td>\n",
       "      <td>0.000000</td>\n",
       "      <td>0.000000</td>\n",
       "      <td>0.000000</td>\n",
       "    </tr>\n",
       "    <tr>\n",
       "      <th>25%</th>\n",
       "      <td>47.500000</td>\n",
       "      <td>0.000000</td>\n",
       "      <td>0.000000</td>\n",
       "      <td>120.000000</td>\n",
       "      <td>211.000000</td>\n",
       "      <td>0.000000</td>\n",
       "      <td>0.000000</td>\n",
       "      <td>133.500000</td>\n",
       "      <td>0.000000</td>\n",
       "      <td>0.000000</td>\n",
       "      <td>1.000000</td>\n",
       "      <td>0.000000</td>\n",
       "      <td>2.000000</td>\n",
       "      <td>0.000000</td>\n",
       "    </tr>\n",
       "    <tr>\n",
       "      <th>50%</th>\n",
       "      <td>55.000000</td>\n",
       "      <td>1.000000</td>\n",
       "      <td>1.000000</td>\n",
       "      <td>130.000000</td>\n",
       "      <td>240.000000</td>\n",
       "      <td>0.000000</td>\n",
       "      <td>1.000000</td>\n",
       "      <td>153.000000</td>\n",
       "      <td>0.000000</td>\n",
       "      <td>0.800000</td>\n",
       "      <td>1.000000</td>\n",
       "      <td>0.000000</td>\n",
       "      <td>2.000000</td>\n",
       "      <td>1.000000</td>\n",
       "    </tr>\n",
       "    <tr>\n",
       "      <th>75%</th>\n",
       "      <td>61.000000</td>\n",
       "      <td>1.000000</td>\n",
       "      <td>2.000000</td>\n",
       "      <td>140.000000</td>\n",
       "      <td>274.500000</td>\n",
       "      <td>0.000000</td>\n",
       "      <td>1.000000</td>\n",
       "      <td>166.000000</td>\n",
       "      <td>1.000000</td>\n",
       "      <td>1.600000</td>\n",
       "      <td>2.000000</td>\n",
       "      <td>1.000000</td>\n",
       "      <td>3.000000</td>\n",
       "      <td>1.000000</td>\n",
       "    </tr>\n",
       "    <tr>\n",
       "      <th>max</th>\n",
       "      <td>77.000000</td>\n",
       "      <td>1.000000</td>\n",
       "      <td>3.000000</td>\n",
       "      <td>200.000000</td>\n",
       "      <td>564.000000</td>\n",
       "      <td>1.000000</td>\n",
       "      <td>2.000000</td>\n",
       "      <td>202.000000</td>\n",
       "      <td>1.000000</td>\n",
       "      <td>6.200000</td>\n",
       "      <td>2.000000</td>\n",
       "      <td>4.000000</td>\n",
       "      <td>3.000000</td>\n",
       "      <td>1.000000</td>\n",
       "    </tr>\n",
       "  </tbody>\n",
       "</table>\n",
       "</div>"
      ],
      "text/plain": [
       "              age         sex          cp    trestbps        chol         fbs  \\\n",
       "count  303.000000  303.000000  303.000000  303.000000  303.000000  303.000000   \n",
       "mean    54.366337    0.683168    0.966997  131.623762  246.264026    0.148515   \n",
       "std      9.082101    0.466011    1.032052   17.538143   51.830751    0.356198   \n",
       "min     29.000000    0.000000    0.000000   94.000000  126.000000    0.000000   \n",
       "25%     47.500000    0.000000    0.000000  120.000000  211.000000    0.000000   \n",
       "50%     55.000000    1.000000    1.000000  130.000000  240.000000    0.000000   \n",
       "75%     61.000000    1.000000    2.000000  140.000000  274.500000    0.000000   \n",
       "max     77.000000    1.000000    3.000000  200.000000  564.000000    1.000000   \n",
       "\n",
       "          restecg     thalach       exang     oldpeak       slope          ca  \\\n",
       "count  303.000000  303.000000  303.000000  303.000000  303.000000  303.000000   \n",
       "mean     0.528053  149.646865    0.326733    1.039604    1.399340    0.729373   \n",
       "std      0.525860   22.905161    0.469794    1.161075    0.616226    1.022606   \n",
       "min      0.000000   71.000000    0.000000    0.000000    0.000000    0.000000   \n",
       "25%      0.000000  133.500000    0.000000    0.000000    1.000000    0.000000   \n",
       "50%      1.000000  153.000000    0.000000    0.800000    1.000000    0.000000   \n",
       "75%      1.000000  166.000000    1.000000    1.600000    2.000000    1.000000   \n",
       "max      2.000000  202.000000    1.000000    6.200000    2.000000    4.000000   \n",
       "\n",
       "             thal      target  \n",
       "count  303.000000  303.000000  \n",
       "mean     2.313531    0.544554  \n",
       "std      0.612277    0.498835  \n",
       "min      0.000000    0.000000  \n",
       "25%      2.000000    0.000000  \n",
       "50%      2.000000    1.000000  \n",
       "75%      3.000000    1.000000  \n",
       "max      3.000000    1.000000  "
      ]
     },
     "execution_count": 1,
     "metadata": {},
     "output_type": "execute_result"
    }
   ],
   "source": [
    "import pandas as pd\n",
    "df = pd.read_csv(\"heart.csv\")\n",
    "df.head()\n",
    "df.info()\n",
    "df.describe()\n"
   ]
  },
  {
   "cell_type": "markdown",
   "id": "38fff8e9",
   "metadata": {},
   "source": [
    "#### 3. Preprocessing\n",
    "- Label encoding for categorical features (sex, cp, thal, slope, etc.)\n",
    "\n",
    "- Feature scaling for k-NN and ANN"
   ]
  },
  {
   "cell_type": "code",
   "execution_count": 2,
   "id": "79fbf46a",
   "metadata": {},
   "outputs": [],
   "source": [
    "from sklearn.preprocessing import StandardScaler\n",
    "from sklearn.model_selection import train_test_split\n",
    "\n",
    "X = df.drop(\"target\", axis=1)\n",
    "y = df[\"target\"]\n",
    "\n",
    "# Scale features\n",
    "scaler = StandardScaler()\n",
    "X_scaled = scaler.fit_transform(X)\n",
    "\n",
    "# 50% train-test split\n",
    "X_train, X_test, y_train, y_test = train_test_split(X_scaled, y, test_size=0.5, random_state=42)\n"
   ]
  },
  {
   "cell_type": "markdown",
   "id": "fca3be41",
   "metadata": {},
   "source": [
    "#### 4. Train & Evaluate Models"
   ]
  },
  {
   "cell_type": "markdown",
   "id": "4c0dc613",
   "metadata": {},
   "source": [
    "-  K-Nearest Neighbors"
   ]
  },
  {
   "cell_type": "code",
   "execution_count": 3,
   "id": "3b167286",
   "metadata": {},
   "outputs": [],
   "source": [
    "from sklearn.neighbors import KNeighborsClassifier\n",
    "from sklearn.metrics import confusion_matrix, accuracy_score\n",
    "\n",
    "knn = KNeighborsClassifier(n_neighbors=5)\n",
    "knn.fit(X_train, y_train)\n",
    "y_pred_knn = knn.predict(X_test)\n"
   ]
  },
  {
   "cell_type": "markdown",
   "id": "36ef19dc",
   "metadata": {},
   "source": [
    "-  Decision Tree"
   ]
  },
  {
   "cell_type": "code",
   "execution_count": 4,
   "id": "b7ed3edd",
   "metadata": {},
   "outputs": [],
   "source": [
    "from sklearn.tree import DecisionTreeClassifier\n",
    "\n",
    "tree = DecisionTreeClassifier(random_state=42)\n",
    "tree.fit(X_train, y_train)\n",
    "y_pred_tree = tree.predict(X_test)\n"
   ]
  },
  {
   "cell_type": "markdown",
   "id": "74e00690",
   "metadata": {},
   "source": [
    "- Artificial Neural Network "
   ]
  },
  {
   "cell_type": "code",
   "execution_count": 5,
   "id": "8b8b38fa",
   "metadata": {},
   "outputs": [
    {
     "name": "stderr",
     "output_type": "stream",
     "text": [
      "C:\\Users\\salma\\AppData\\Local\\Packages\\PythonSoftwareFoundation.Python.3.13_qbz5n2kfra8p0\\LocalCache\\local-packages\\Python313\\site-packages\\sklearn\\neural_network\\_multilayer_perceptron.py:691: ConvergenceWarning: Stochastic Optimizer: Maximum iterations (500) reached and the optimization hasn't converged yet.\n",
      "  warnings.warn(\n"
     ]
    }
   ],
   "source": [
    "from sklearn.neural_network import MLPClassifier\n",
    "\n",
    "ann = MLPClassifier(hidden_layer_sizes=(32, 16), max_iter=500, random_state=42)\n",
    "ann.fit(X_train, y_train)\n",
    "y_pred_ann = ann.predict(X_test)\n"
   ]
  },
  {
   "cell_type": "markdown",
   "id": "8099484b",
   "metadata": {},
   "source": [
    "#### 5. Evaluate Accuracy + Confusion Matrix"
   ]
  },
  {
   "cell_type": "code",
   "execution_count": 6,
   "id": "3a5d12db",
   "metadata": {},
   "outputs": [
    {
     "name": "stdout",
     "output_type": "stream",
     "text": [
      "KNN Accuracy: 0.84\n",
      "True Positives: 68, True Negatives: 59, Total Test Cases: 152\n",
      "TP + TN / Total = 0.84\n",
      "\n",
      "Decision Tree Accuracy: 0.74\n",
      "True Positives: 58, True Negatives: 55, Total Test Cases: 152\n",
      "TP + TN / Total = 0.74\n",
      "\n",
      "ANN Accuracy: 0.80\n",
      "True Positives: 65, True Negatives: 57, Total Test Cases: 152\n",
      "TP + TN / Total = 0.80\n",
      "\n"
     ]
    }
   ],
   "source": [
    "from sklearn.metrics import confusion_matrix, accuracy_score\n",
    "\n",
    "def evaluate(y_true, y_pred, model_name):\n",
    "    cm = confusion_matrix(y_true, y_pred)\n",
    "    accuracy = accuracy_score(y_true, y_pred)\n",
    "    TP = cm[1][1]\n",
    "    TN = cm[0][0]\n",
    "    print(f\"{model_name} Accuracy: {accuracy:.2f}\")\n",
    "    print(f\"True Positives: {TP}, True Negatives: {TN}, Total Test Cases: {len(y_true)}\")\n",
    "    print(f\"TP + TN / Total = {(TP + TN)/len(y_true):.2f}\\n\")\n",
    "\n",
    "evaluate(y_test, y_pred_knn, \"KNN\")\n",
    "evaluate(y_test, y_pred_tree, \"Decision Tree\")\n",
    "evaluate(y_test, y_pred_ann, \"ANN\")\n"
   ]
  },
  {
   "cell_type": "code",
   "execution_count": 7,
   "id": "c28d75b3",
   "metadata": {},
   "outputs": [
    {
     "data": {
      "text/html": [
       "<div>\n",
       "<style scoped>\n",
       "    .dataframe tbody tr th:only-of-type {\n",
       "        vertical-align: middle;\n",
       "    }\n",
       "\n",
       "    .dataframe tbody tr th {\n",
       "        vertical-align: top;\n",
       "    }\n",
       "\n",
       "    .dataframe thead th {\n",
       "        text-align: right;\n",
       "    }\n",
       "</style>\n",
       "<table border=\"1\" class=\"dataframe\">\n",
       "  <thead>\n",
       "    <tr style=\"text-align: right;\">\n",
       "      <th></th>\n",
       "      <th>Model</th>\n",
       "      <th>Accuracy (%)</th>\n",
       "      <th>True Positives (TP)</th>\n",
       "      <th>True Negatives (TN)</th>\n",
       "      <th>Total Test Cases</th>\n",
       "    </tr>\n",
       "  </thead>\n",
       "  <tbody>\n",
       "    <tr>\n",
       "      <th>0</th>\n",
       "      <td>KNN</td>\n",
       "      <td>84.0</td>\n",
       "      <td>68</td>\n",
       "      <td>59</td>\n",
       "      <td>152</td>\n",
       "    </tr>\n",
       "    <tr>\n",
       "      <th>1</th>\n",
       "      <td>Decision Tree</td>\n",
       "      <td>74.0</td>\n",
       "      <td>58</td>\n",
       "      <td>55</td>\n",
       "      <td>152</td>\n",
       "    </tr>\n",
       "    <tr>\n",
       "      <th>2</th>\n",
       "      <td>ANN</td>\n",
       "      <td>80.0</td>\n",
       "      <td>65</td>\n",
       "      <td>57</td>\n",
       "      <td>152</td>\n",
       "    </tr>\n",
       "  </tbody>\n",
       "</table>\n",
       "</div>"
      ],
      "text/plain": [
       "           Model  Accuracy (%)  True Positives (TP)  True Negatives (TN)  \\\n",
       "0            KNN          84.0                   68                   59   \n",
       "1  Decision Tree          74.0                   58                   55   \n",
       "2            ANN          80.0                   65                   57   \n",
       "\n",
       "   Total Test Cases  \n",
       "0               152  \n",
       "1               152  \n",
       "2               152  "
      ]
     },
     "execution_count": 7,
     "metadata": {},
     "output_type": "execute_result"
    }
   ],
   "source": [
    "# creating a comparison table\n",
    "import pandas as pd\n",
    "\n",
    "# Replace these with your actual results\n",
    "results = {\n",
    "    \"Model\": [\"KNN\", \"Decision Tree\", \"ANN\"],\n",
    "    \"Accuracy (%)\": [84.0, 74.0, 80.0],\n",
    "    \"True Positives (TP)\": [68, 58, 65],\n",
    "    \"True Negatives (TN)\": [59, 55, 57],\n",
    "    \"Total Test Cases\": [152, 152, 152]\n",
    "}\n",
    "\n",
    "df_results = pd.DataFrame(results)\n",
    "df_results\n"
   ]
  },
  {
   "cell_type": "markdown",
   "id": "a7de06da",
   "metadata": {},
   "source": [
    "#### Analysis and Interpretation\n",
    "- KNN achieved the highest accuracy at 84%, correctly identifying the most true positives and true negatives overall. Its strength here likely came from the numerical nature of the features and the scaled dataset, which benefits distance-based models like KNN.\n",
    "\n",
    "- ANN (Artificial Neural Network) followed closely with an 80% accuracy. It struck a balance, performing well on both positive and negative predictions. Its slightly lower accuracy compared to KNN might be due to limited model tuning (e.g., hidden layers, epochs), but it still generalized effectively.\n",
    "\n",
    "- Decision Tree lagged behind with 74% accuracy. While still respectable, it may have been more prone to overfitting, or perhaps it didn’t capture the deeper, nonlinear relationships in the data as well as the other two models."
   ]
  },
  {
   "cell_type": "markdown",
   "id": "0a09ff21",
   "metadata": {},
   "source": [
    "#### Conclusion\n",
    "- Ranking (based on accuracy): KNN > ANN > Decision Tree\n",
    "\n",
    "- KNN is the best performing model for this dataset, suggesting that proximity-based classification worked well.\n",
    "\n",
    "- ANN is a close second and might outperform with further tuning.\n",
    "\n",
    "- Decision Trees, while interpretable, underperformed slightly and may require pruning or boosting for better results."
   ]
  },
  {
   "cell_type": "markdown",
   "id": "af582496",
   "metadata": {},
   "source": [
    "#### Real-Life Applicability                                                                                                                                       \n",
    "- Doctors and Nurses: The model can help them quickly check if someone might have heart problems during regular hospital visits.\n",
    "\n",
    "- Health Apps: It can be used in mobile apps to help people in remote or rural areas check their heart health without needing to visit a doctor.\n",
    "\n",
    "- Healthy Living Advice: If the model says someone is at risk, they can get advice on how to eat better, exercise, or reduce stress to stay healthy.\n",
    "\n",
    "- Insurance Companies: It can help insurance companies understand a person’s health risk before giving them a health cover or deciding the price of a plan."
   ]
  }
 ],
 "metadata": {
  "kernelspec": {
   "display_name": "Python 3",
   "language": "python",
   "name": "python3"
  },
  "language_info": {
   "codemirror_mode": {
    "name": "ipython",
    "version": 3
   },
   "file_extension": ".py",
   "mimetype": "text/x-python",
   "name": "python",
   "nbconvert_exporter": "python",
   "pygments_lexer": "ipython3",
   "version": "3.13.5"
  }
 },
 "nbformat": 4,
 "nbformat_minor": 5
}
